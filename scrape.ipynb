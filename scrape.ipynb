{
 "cells": [
  {
   "cell_type": "code",
   "execution_count": 13,
   "metadata": {},
   "outputs": [],
   "source": [
    "import requests\n",
    "import pandas as pd\n",
    "from datetime import datetime\n",
    "import os"
   ]
  },
  {
   "cell_type": "code",
   "execution_count": 4,
   "metadata": {},
   "outputs": [],
   "source": [
    "rest_api = 'https://ftx.com/api'\n",
    "markets_endpoint = '/markets'\n",
    "historical_price_endpoint = '/markets/{}/candles?resolution={}&start_time={}&end_time={}'"
   ]
  },
  {
   "cell_type": "code",
   "execution_count": 5,
   "metadata": {},
   "outputs": [],
   "source": [
    "UNIX_START = pd.Timestamp(0, unit='s', tz='UTC')\n",
    "MAX_RESOLUTION = 86400 * 30\n",
    "API_RECORD_LIMIT = 1500"
   ]
  },
  {
   "cell_type": "code",
   "execution_count": 6,
   "metadata": {},
   "outputs": [],
   "source": [
    "def get_unix_ts(date_str):\n",
    "    return (pd.Timestamp(date_str, tz='UTC') - UNIX_START) // pd.Timedelta('1s')\n",
    "\n",
    "def current_time():\n",
    "    return get_unix_ts(datetime.utcnow())"
   ]
  },
  {
   "cell_type": "code",
   "execution_count": 7,
   "metadata": {},
   "outputs": [],
   "source": [
    "def get_market_start(market_name):\n",
    "    url = rest_api + historical_price_endpoint.format(market_name, MAX_RESOLUTION, 0, current_time())\n",
    "\n",
    "    res = requests.get(url)\n",
    "    if res.status_code != 200:\n",
    "        raise f\"Status Code is {res.status_code}, Something went wrong\"\n",
    "\n",
    "    prices = res.json()['result']\n",
    "    if not len(prices):\n",
    "        raise f\"No price data was found\"\n",
    "\n",
    "    unix_ts = int(prices[0]['time'] // 1e3)\n",
    "    return unix_ts\n"
   ]
  },
  {
   "cell_type": "code",
   "execution_count": 8,
   "metadata": {},
   "outputs": [],
   "source": [
    "def get_all_market_prices(market_name, resolution):\n",
    "\n",
    "    market_start = get_market_start(market_name)\n",
    "    market_end = current_time() \n",
    "\n",
    "    df_list = []\n",
    "    for start_ts in range(market_start, market_end, resolution * API_RECORD_LIMIT):\n",
    "        end_ts = start_ts + resolution * (API_RECORD_LIMIT - 1)\n",
    "        url = rest_api + historical_price_endpoint.format(market_name, resolution, start_ts, end_ts)\n",
    "        res = requests.get(url)\n",
    "        df_list.append(res.json()['result'])\n",
    "\n",
    "    flattened_df_list = [item for sublist in df_list for item in sublist]\n",
    "    df = pd.DataFrame(flattened_df_list)\n",
    "    return df"
   ]
  },
  {
   "cell_type": "code",
   "execution_count": 9,
   "metadata": {},
   "outputs": [],
   "source": [
    "res = requests.get(rest_api + markets_endpoint)\n",
    "markets = pd.DataFrame(res.json()['result'])\n",
    "top_10_markets = markets.iloc[markets.volumeUsd24h.nlargest(10).index].name.values"
   ]
  },
  {
   "cell_type": "code",
   "execution_count": 19,
   "metadata": {},
   "outputs": [
    {
     "name": "stdout",
     "output_type": "stream",
     "text": [
      "Fetching Data for the ETH-PERP Market\n",
      "Fetching Data for the BTC-PERP Market\n",
      "Fetching Data for the ETH/USD Market\n",
      "Fetching Data for the DOGE-PERP Market\n",
      "Fetching Data for the BTC/USD Market\n",
      "Fetching Data for the SOL-PERP Market\n",
      "Fetching Data for the ETC-PERP Market\n",
      "Fetching Data for the SOL/USD Market\n",
      "Fetching Data for the MATIC-PERP Market\n",
      "Fetching Data for the AVAX-PERP Market\n"
     ]
    }
   ],
   "source": [
    "resolution = 900\n",
    "\n",
    "for market in top_10_markets:\n",
    "    print(f\"Fetching Data for the {market} Market\")\n",
    "    df = get_all_market_prices(market, resolution)\n",
    "\n",
    "    # ensure correct folders exist\n",
    "    folder = '/'.join(f'data/{market}.csv'.split('/')[:-1])\n",
    "    if not os.path.exists(folder):\n",
    "        os.makedirs(folder)\n",
    "\n",
    "    df.to_csv(f'data/{market}.csv')"
   ]
  }
 ],
 "metadata": {
  "kernelspec": {
   "display_name": "Python 3.7.4 64-bit",
   "language": "python",
   "name": "python3"
  },
  "language_info": {
   "codemirror_mode": {
    "name": "ipython",
    "version": 3
   },
   "file_extension": ".py",
   "mimetype": "text/x-python",
   "name": "python",
   "nbconvert_exporter": "python",
   "pygments_lexer": "ipython3",
   "version": "3.7.4"
  },
  "orig_nbformat": 4,
  "vscode": {
   "interpreter": {
    "hash": "5109d816b82be14675a6b11f8e0f0d2e80f029176ed3710d54e125caa8520dfd"
   }
  }
 },
 "nbformat": 4,
 "nbformat_minor": 2
}
